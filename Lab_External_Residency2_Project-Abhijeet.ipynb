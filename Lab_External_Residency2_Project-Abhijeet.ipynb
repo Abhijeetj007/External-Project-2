{
 "cells": [
  {
   "cell_type": "code",
   "execution_count": 1,
   "metadata": {},
   "outputs": [],
   "source": [
    "import numpy as np\n",
    "import pandas as pd\n",
    "from scipy.stats import ttest_1samp, ttest_ind, mannwhitneyu, levene, shapiro, binom\n",
    "from statsmodels.stats.multicomp import pairwise_tukeyhsd, MultiComparison\n",
    "import matplotlib.pyplot as plt\n",
    "from statsmodels.formula.api import ols\n",
    "from statsmodels.stats.anova import anova_lm\n",
    "from scipy import stats\n",
    "from statsmodels.stats.power import ttest_power"
   ]
  },
  {
   "cell_type": "markdown",
   "metadata": {},
   "source": [
    "Q1: Find the mean of old scheme and new scheme column. (5 points)"
   ]
  },
  {
   "cell_type": "code",
   "execution_count": 3,
   "metadata": {},
   "outputs": [
    {
     "name": "stdout",
     "output_type": "stream",
     "text": [
      "    SALESPERSON  Old Scheme  New Scheme\n",
      "0             1          57          62\n",
      "1             2         103         122\n",
      "2             3          59          54\n",
      "3             4          75          82\n",
      "4             5          84          84\n",
      "5             6          73          86\n",
      "6             7          35          32\n",
      "7             8         110         104\n",
      "8             9          44          38\n",
      "9            10          82         107\n",
      "10           11          67          84\n",
      "11           12          64          85\n",
      "12           13          78          99\n",
      "13           14          53          39\n",
      "14           15          41          34\n",
      "15           16          39          58\n",
      "16           17          80          73\n",
      "17           18          87          53\n",
      "18           19          73          66\n",
      "19           20          65          78\n",
      "20           21          28          41\n",
      "21           22          62          71\n",
      "22           23          49          38\n",
      "23           24          84          95\n",
      "24           25          63          81\n",
      "25           26          77          58\n",
      "26           27          67          75\n",
      "27           28         101          94\n",
      "28           29          91         100\n",
      "29           30          50          68\n"
     ]
    }
   ],
   "source": [
    "titan = pd.read_csv(\"Titan.csv\")\n",
    "print(titan)"
   ]
  },
  {
   "cell_type": "code",
   "execution_count": 3,
   "metadata": {},
   "outputs": [
    {
     "data": {
      "text/plain": [
       "Old Scheme    68.033333\n",
       "New Scheme    72.033333\n",
       "dtype: float64"
      ]
     },
     "execution_count": 3,
     "metadata": {},
     "output_type": "execute_result"
    }
   ],
   "source": [
    "titan[['Old Scheme','New Scheme']].mean()"
   ]
  },
  {
   "cell_type": "markdown",
   "metadata": {},
   "source": [
    "Q2: Use the five percent significance test over the data to determine the p value to check new scheme has significantly raised outputs?"
   ]
  },
  {
   "cell_type": "code",
   "execution_count": 5,
   "metadata": {},
   "outputs": [
    {
     "name": "stdout",
     "output_type": "stream",
     "text": [
      "0.13057553961337662\n",
      "new scheme has significantly raised outputs\n"
     ]
    }
   ],
   "source": [
    "\n",
    "ttest,pval = stats.ttest_rel(titan['Old Scheme'],titan['New Scheme'])\n",
    "\n",
    "print(pval)\n",
    "\n",
    "if pval >0.05:\n",
    "\n",
    "  print(\"new scheme has significantly raised outputs\")\n",
    "\n",
    "else:\n",
    "\n",
    "  print(\"new scheme did not significantly raised outputs\")"
   ]
  },
  {
   "cell_type": "code",
   "execution_count": 9,
   "metadata": {},
   "outputs": [
    {
     "data": {
      "text/plain": [
       "Ttest_indResult(statistic=-0.6937067608923764, pvalue=0.49063515686248105)"
      ]
     },
     "execution_count": 9,
     "metadata": {},
     "output_type": "execute_result"
    }
   ],
   "source": [
    "ttest = ttest_ind(titan['Old Scheme'],titan['New Scheme'])\n",
    "ttest"
   ]
  },
  {
   "cell_type": "markdown",
   "metadata": {},
   "source": [
    "Q3: What conclusion does the test (p-value) lead to? (2.5 points)"
   ]
  },
  {
   "cell_type": "markdown",
   "metadata": {},
   "source": [
    "Answer: A small p-value (typically ≤ 0.05) indicates strong evidence against the null hypothesis, so you reject the null hypothesis.\n",
    "\n",
    "A large p-value (> 0.05) indicates weak evidence against the null hypothesis, so you fail to reject the null hypothesis.\n",
    "\n",
    "p-values very close to the cutoff (0.05) are considered to be marginal (could go either way). Always report the p-value so we can draw their own conclusions."
   ]
  },
  {
   "cell_type": "markdown",
   "metadata": {},
   "source": [
    "Q4: Suppose it has been calculated that in order for Titan to break even, the average output must increase by £5000 in the scheme compared to the old scheme. If this figure is alternative hypothesis, what is: "
   ]
  },
  {
   "cell_type": "markdown",
   "metadata": {},
   "source": [
    "4.1: The probability of a type 1 error? (2.5 points)\n"
   ]
  },
  {
   "cell_type": "code",
   "execution_count": 11,
   "metadata": {},
   "outputs": [],
   "source": [
    "##Probability of Type I error = significant level = 0.05 or 5%"
   ]
  },
  {
   "cell_type": "markdown",
   "metadata": {},
   "source": [
    "4.2: What is the p- value of the hypothesis test if we test for a difference of $5000? (10 points)"
   ]
  },
  {
   "cell_type": "code",
   "execution_count": 4,
   "metadata": {},
   "outputs": [
    {
     "name": "stdout",
     "output_type": "stream",
     "text": [
      "-0.2276259527435415 0.4107671330687723\n"
     ]
    }
   ],
   "source": [
    "t_statistic, p_value = ttest_1samp((titan['New Scheme'])-((titan['Old Scheme'].mean())+5),0)\n",
    "p_value2 = p_value/2\n",
    "print(t_statistic,p_value2)"
   ]
  },
  {
   "cell_type": "markdown",
   "metadata": {},
   "source": [
    "4.3: Power of the test (5 points)"
   ]
  },
  {
   "cell_type": "code",
   "execution_count": 13,
   "metadata": {},
   "outputs": [
    {
     "data": {
      "text/plain": [
       "27.00082535024823"
      ]
     },
     "execution_count": 13,
     "metadata": {},
     "output_type": "execute_result"
    }
   ],
   "source": [
    "(titan['New Scheme'].mean() - titan['Old Scheme'].mean())/np.sqrt(((29-1)*titan['New Scheme'].var() + (29-1)*titan['Old Scheme'].var())) /29+29-2\n"
   ]
  },
  {
   "cell_type": "code",
   "execution_count": 16,
   "metadata": {},
   "outputs": [
    {
     "name": "stdout",
     "output_type": "stream",
     "text": [
      "1.0\n"
     ]
    }
   ],
   "source": [
    "#alpha based on assumption &  nobs are no of observations\n",
    "\n",
    "print(ttest_power(27.00, nobs=29, alpha=0.01, alternative='two-sided'))"
   ]
  }
 ],
 "metadata": {
  "kernelspec": {
   "display_name": "Python 3",
   "language": "python",
   "name": "python3"
  },
  "language_info": {
   "codemirror_mode": {
    "name": "ipython",
    "version": 3
   },
   "file_extension": ".py",
   "mimetype": "text/x-python",
   "name": "python",
   "nbconvert_exporter": "python",
   "pygments_lexer": "ipython3",
   "version": "3.7.3"
  }
 },
 "nbformat": 4,
 "nbformat_minor": 2
}
